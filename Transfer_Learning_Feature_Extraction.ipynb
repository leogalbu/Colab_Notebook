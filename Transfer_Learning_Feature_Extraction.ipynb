{
  "nbformat": 4,
  "nbformat_minor": 0,
  "metadata": {
    "colab": {
      "provenance": [],
      "authorship_tag": "ABX9TyOeNF2lvvCoSHtjnC3Ba6FE",
      "include_colab_link": true
    },
    "kernelspec": {
      "name": "python3",
      "display_name": "Python 3"
    },
    "language_info": {
      "name": "python"
    },
    "accelerator": "GPU",
    "gpuClass": "standard"
  },
  "cells": [
    {
      "cell_type": "markdown",
      "metadata": {
        "id": "view-in-github",
        "colab_type": "text"
      },
      "source": [
        "<a href=\"https://colab.research.google.com/github/leogalbu/Colab_Notebook/blob/Image_Classification/Transfer_Learning_Feature_Extraction.ipynb\" target=\"_parent\"><img src=\"https://colab.research.google.com/assets/colab-badge.svg\" alt=\"Open In Colab\"/></a>"
      ]
    },
    {
      "cell_type": "markdown",
      "source": [
        "## Transfer Learning  - Feature Extraction"
      ],
      "metadata": {
        "id": "jh16UkYPIznH"
      }
    },
    {
      "cell_type": "code",
      "execution_count": 38,
      "metadata": {
        "id": "Yj5PLLd1GUes"
      },
      "outputs": [],
      "source": [
        "import zipfile\n",
        "import os\n",
        "import pathlib\n",
        "import datetime\n",
        "\n",
        "import tensorflow as tf\n",
        "from tensorflow.keras.preprocessing.image import ImageDataGenerator\n",
        "from tensorflow.keras.callbacks import TensorBoard\n",
        "import tensorflow_hub as hub\n",
        "from tensorflow.keras import layers\n",
        "\n",
        "import matplotlib.pyplot as plt"
      ]
    },
    {
      "cell_type": "markdown",
      "source": [
        "## Downloading the data"
      ],
      "metadata": {
        "id": "Bu-ViFMOJATu"
      }
    },
    {
      "cell_type": "code",
      "source": [
        "# Use 10% of the data of the previous notebook\n",
        "!wget https://storage.googleapis.com/ztm_tf_course/food_vision/10_food_classes_10_percent.zip\n",
        "\n",
        "zip_ref = zipfile.ZipFile('10_food_classes_10_percent.zip')\n",
        "zip_ref.extractall()\n",
        "zip_ref.close()"
      ],
      "metadata": {
        "colab": {
          "base_uri": "https://localhost:8080/"
        },
        "id": "JAHerNdSIyjn",
        "outputId": "830a02dc-791e-4b38-ddc3-4ddce54bb46c"
      },
      "execution_count": 3,
      "outputs": [
        {
          "output_type": "stream",
          "name": "stdout",
          "text": [
            "--2022-09-02 12:20:37--  https://storage.googleapis.com/ztm_tf_course/food_vision/10_food_classes_10_percent.zip\n",
            "Resolving storage.googleapis.com (storage.googleapis.com)... 142.251.111.128, 142.251.16.128, 142.251.33.208, ...\n",
            "Connecting to storage.googleapis.com (storage.googleapis.com)|142.251.111.128|:443... connected.\n",
            "HTTP request sent, awaiting response... 200 OK\n",
            "Length: 168546183 (161M) [application/zip]\n",
            "Saving to: ‘10_food_classes_10_percent.zip.1’\n",
            "\n",
            "10_food_classes_10_ 100%[===================>] 160.74M   249MB/s    in 0.6s    \n",
            "\n",
            "2022-09-02 12:20:38 (249 MB/s) - ‘10_food_classes_10_percent.zip.1’ saved [168546183/168546183]\n",
            "\n"
          ]
        }
      ]
    },
    {
      "cell_type": "code",
      "source": [
        "# Walk the directories\n",
        "for dirpath, dirnames, filenames in os.walk('10_food_classes_10_percent'):\n",
        "  print(f\"there are {len(dirnames)} directories and {len(filenames)} images in '{dirpath}'\")"
      ],
      "metadata": {
        "colab": {
          "base_uri": "https://localhost:8080/"
        },
        "id": "yjvdr4XkJSBN",
        "outputId": "10b66931-d05f-45e6-b7bb-012ab8c26037"
      },
      "execution_count": 4,
      "outputs": [
        {
          "output_type": "stream",
          "name": "stdout",
          "text": [
            "there are 2 directories and 0 images in '10_food_classes_10_percent'\n",
            "there are 10 directories and 0 images in '10_food_classes_10_percent/train'\n",
            "there are 0 directories and 75 images in '10_food_classes_10_percent/train/ice_cream'\n",
            "there are 0 directories and 75 images in '10_food_classes_10_percent/train/pizza'\n",
            "there are 0 directories and 75 images in '10_food_classes_10_percent/train/steak'\n",
            "there are 0 directories and 75 images in '10_food_classes_10_percent/train/sushi'\n",
            "there are 0 directories and 75 images in '10_food_classes_10_percent/train/chicken_wings'\n",
            "there are 0 directories and 75 images in '10_food_classes_10_percent/train/chicken_curry'\n",
            "there are 0 directories and 75 images in '10_food_classes_10_percent/train/grilled_salmon'\n",
            "there are 0 directories and 75 images in '10_food_classes_10_percent/train/fried_rice'\n",
            "there are 0 directories and 75 images in '10_food_classes_10_percent/train/ramen'\n",
            "there are 0 directories and 75 images in '10_food_classes_10_percent/train/hamburger'\n",
            "there are 10 directories and 0 images in '10_food_classes_10_percent/test'\n",
            "there are 0 directories and 250 images in '10_food_classes_10_percent/test/ice_cream'\n",
            "there are 0 directories and 250 images in '10_food_classes_10_percent/test/pizza'\n",
            "there are 0 directories and 250 images in '10_food_classes_10_percent/test/steak'\n",
            "there are 0 directories and 250 images in '10_food_classes_10_percent/test/sushi'\n",
            "there are 0 directories and 250 images in '10_food_classes_10_percent/test/chicken_wings'\n",
            "there are 0 directories and 250 images in '10_food_classes_10_percent/test/chicken_curry'\n",
            "there are 0 directories and 250 images in '10_food_classes_10_percent/test/grilled_salmon'\n",
            "there are 0 directories and 250 images in '10_food_classes_10_percent/test/fried_rice'\n",
            "there are 0 directories and 250 images in '10_food_classes_10_percent/test/ramen'\n",
            "there are 0 directories and 250 images in '10_food_classes_10_percent/test/hamburger'\n"
          ]
        }
      ]
    },
    {
      "cell_type": "markdown",
      "source": [
        "## Prepare data using ImageDataGenerator"
      ],
      "metadata": {
        "id": "uHguKFs8KnlV"
      }
    },
    {
      "cell_type": "code",
      "source": [
        "# Setup data input\n",
        "IMAGE_SHAPE = (224,224)\n",
        "BATCH_SIZE = 32\n",
        "EPOCHS = 5\n",
        "\n",
        "train_dir = '10_food_classes_10_percent/train/'\n",
        "test_dir = '10_food_classes_10_percent/test/'\n",
        "\n",
        "train_datagen = ImageDataGenerator(rescale=1/255.)\n",
        "test_datagen = ImageDataGenerator(rescale=1/255.)\n",
        "\n",
        "train_data = train_datagen.flow_from_directory(train_dir, target_size=IMAGE_SHAPE, batch_size=BATCH_SIZE, class_mode='categorical')\n",
        "test_data = test_datagen.flow_from_directory(test_dir, target_size=IMAGE_SHAPE, batch_size=BATCH_SIZE, class_mode='categorical')"
      ],
      "metadata": {
        "colab": {
          "base_uri": "https://localhost:8080/"
        },
        "id": "r_N8w2OHKnMW",
        "outputId": "5fa70173-abe4-4dae-a907-d4f583fd11fd"
      },
      "execution_count": 7,
      "outputs": [
        {
          "output_type": "stream",
          "name": "stdout",
          "text": [
            "Found 750 images belonging to 10 classes.\n",
            "Found 2500 images belonging to 10 classes.\n"
          ]
        }
      ]
    },
    {
      "cell_type": "markdown",
      "source": [
        "## Callbacks (Tensorflow/Keras)\n",
        "\n",
        "* Tracking expriments withn Tensorboard callback\n",
        "* ModelChekcpoint\n",
        "* Stopping model from training with EarlyStopping"
      ],
      "metadata": {
        "id": "6ZR27eK5L8pN"
      }
    },
    {
      "cell_type": "code",
      "source": [
        "# Buuild a function for TensorBoard Callback\n",
        "def create_tensorboard_callback(dir_name, experiment_name):\n",
        "  # Create a directory\n",
        "  log_dir = dir_name + '/' + experiment_name + '/' + datetime.datetime.now().strftime(\"%Y%m%d-%H%M%S\")\n",
        "  tensorboard_callback = TensorBoard(log_dir=log_dir)\n",
        "  print(f\"Saving tensorboard log file to: {log_dir}\")\n",
        "  return tensorboard_callback"
      ],
      "metadata": {
        "id": "uyMG5OhaMAQN"
      },
      "execution_count": 34,
      "outputs": []
    },
    {
      "cell_type": "markdown",
      "source": [
        "## Create Models using Tensorflow HUB"
      ],
      "metadata": {
        "id": "8zpvM7JVOhP8"
      }
    },
    {
      "cell_type": "code",
      "source": [
        "# Compare two models \n",
        "resnet_url = 'https://tfhub.dev/google/imagenet/resnet_v2_50/feature_vector/5'\n",
        "efficientnet_url = 'https://tfhub.dev/tensorflow/efficientnet/b0/feature-vector/1'"
      ],
      "metadata": {
        "id": "ShxjVsk8OUWB"
      },
      "execution_count": 13,
      "outputs": []
    },
    {
      "cell_type": "code",
      "source": [
        "# Create a model function\n",
        "def create_model(model_url, num_classes=10):\n",
        "  # Download the pretrained Keras Layers\n",
        "  feature_extractor_layer = hub.KerasLayer(model_url, \n",
        "                                           trainable=False, # Freeze the already learned patterns/weights\n",
        "                                           name=\"feature_extractio_layer\", \n",
        "                                           input_shape=IMAGE_SHAPE+(3,)) \n",
        "  # Create the model\n",
        "  model = tf.keras.Sequential([\n",
        "      feature_extractor_layer,\n",
        "      layers.Dense(num_classes, activation='softmax', name='output_layer')\n",
        "  ])\n",
        "\n",
        "  return model\n"
      ],
      "metadata": {
        "id": "zRxaseCDQOZK"
      },
      "execution_count": 22,
      "outputs": []
    },
    {
      "cell_type": "markdown",
      "source": [
        "## Create ResNet Model\n"
      ],
      "metadata": {
        "id": "bL8O-OBtS4aR"
      }
    },
    {
      "cell_type": "code",
      "source": [
        "resnet_model = create_model(resnet_url, num_classes=10)"
      ],
      "metadata": {
        "id": "GPZeI0QWS1HZ"
      },
      "execution_count": 23,
      "outputs": []
    },
    {
      "cell_type": "code",
      "source": [
        "resnet_model.summary()"
      ],
      "metadata": {
        "colab": {
          "base_uri": "https://localhost:8080/"
        },
        "id": "MhykRal8TJ0h",
        "outputId": "d924fad1-2d11-4e57-e2c5-870c403c360a"
      },
      "execution_count": 24,
      "outputs": [
        {
          "output_type": "stream",
          "name": "stdout",
          "text": [
            "Model: \"sequential\"\n",
            "_________________________________________________________________\n",
            " Layer (type)                Output Shape              Param #   \n",
            "=================================================================\n",
            " feature_extractio_layer (Ke  (None, 2048)             23564800  \n",
            " rasLayer)                                                       \n",
            "                                                                 \n",
            " output_layer (Dense)        (None, 10)                20490     \n",
            "                                                                 \n",
            "=================================================================\n",
            "Total params: 23,585,290\n",
            "Trainable params: 20,490\n",
            "Non-trainable params: 23,564,800\n",
            "_________________________________________________________________\n"
          ]
        }
      ]
    },
    {
      "cell_type": "code",
      "source": [
        "# Compile resnet\n",
        "resnet_model.compile(loss='categorical_crossentropy', metrics=['accuracy'], optimizer=tf.keras.optimizers.Adam())"
      ],
      "metadata": {
        "id": "75tZ3FIRTlYI"
      },
      "execution_count": 30,
      "outputs": []
    },
    {
      "cell_type": "code",
      "source": [
        "# Fit the model\n",
        "resnet_history = resnet_model.fit(train_data, epochs=EPOCHS, steps_per_epoch=len(train_data), validation_data=test_data, validation_steps=len(test_data), callbacks=[create_tensorboard_callback(dir_name='tensorboard_hub', experiment_name='resnet50V2')])"
      ],
      "metadata": {
        "colab": {
          "base_uri": "https://localhost:8080/"
        },
        "id": "kRoqcTywT9iI",
        "outputId": "51ab221d-a970-455d-af6b-846c79977ad5"
      },
      "execution_count": 36,
      "outputs": [
        {
          "output_type": "stream",
          "name": "stdout",
          "text": [
            "Saving tensorboard log file to: tensorboard_hub/resnet50V2/20220902-131115\n",
            "Epoch 1/5\n",
            "24/24 [==============================] - 32s 741ms/step - loss: 1.9395 - accuracy: 0.3440 - val_loss: 1.2223 - val_accuracy: 0.6168\n",
            "Epoch 2/5\n",
            "24/24 [==============================] - 16s 672ms/step - loss: 0.9356 - accuracy: 0.7160 - val_loss: 0.8865 - val_accuracy: 0.7132\n",
            "Epoch 3/5\n",
            "24/24 [==============================] - 15s 661ms/step - loss: 0.6355 - accuracy: 0.8187 - val_loss: 0.7549 - val_accuracy: 0.7604\n",
            "Epoch 4/5\n",
            "24/24 [==============================] - 15s 664ms/step - loss: 0.4906 - accuracy: 0.8693 - val_loss: 0.7048 - val_accuracy: 0.7720\n",
            "Epoch 5/5\n",
            "24/24 [==============================] - 16s 670ms/step - loss: 0.3892 - accuracy: 0.9013 - val_loss: 0.6734 - val_accuracy: 0.7828\n"
          ]
        }
      ]
    },
    {
      "cell_type": "code",
      "source": [
        "def plot_loss_curves (history):\n",
        "  loss = history.history['loss']\n",
        "  val_loss = history.history['val_loss']\n",
        "\n",
        "  accuracy = history.history['accuracy']\n",
        "  val_accuracy = history.history['val_accuracy']\n",
        "\n",
        "  epochs = range(len(history.history['accuracy']))\n",
        "\n",
        "  plt.plot(epochs, loss, label='Training loss')\n",
        "  plt.plot(epochs, val_loss, label='Val Loss')\n",
        "  plt.title('Loss')\n",
        "  plt.xlabel('Epochs')\n",
        "  plt.legend()\n",
        "  plt.figure()\n",
        "  plt.plot(epochs, accuracy, label='Training Accuracy')\n",
        "  plt.plot(epochs, val_accuracy, label='Val Accuracy')\n",
        "  plt.title('Accuracy')\n",
        "  plt.xlabel('Epochs')"
      ],
      "metadata": {
        "id": "CHy2a6MnV6nH"
      },
      "execution_count": 39,
      "outputs": []
    },
    {
      "cell_type": "code",
      "source": [
        "plot_loss_curves(resnet_history)\n"
      ],
      "metadata": {
        "colab": {
          "base_uri": "https://localhost:8080/",
          "height": 573
        },
        "id": "xYXa-cSJV_jv",
        "outputId": "89d7b8c8-98fa-494f-e23b-73144bd3a3aa"
      },
      "execution_count": 40,
      "outputs": [
        {
          "output_type": "display_data",
          "data": {
            "text/plain": [
              "<Figure size 432x288 with 1 Axes>"
            ],
            "image/png": "[encoded data removed]"
          },
          "metadata": {
            "needs_background": "light"
          }
        },
        {
          "output_type": "display_data",
          "data": {
            "text/plain": [
              "<Figure size 432x288 with 1 Axes>"
            ],
            "image/png": "[encoded data removed]"
          },
          "metadata": {
            "needs_background": "light"
          }
        }
      ]
    },
    {
      "cell_type": "markdown",
      "source": [
        "## EfficientNet Model"
      ],
      "metadata": {
        "id": "j4Sywyf1WrGH"
      }
    },
    {
      "cell_type": "code",
      "source": [
        "efficientnet_model = create_model(efficientnet_url, num_classes=10)"
      ],
      "metadata": {
        "id": "3PmgIHzKWpvf"
      },
      "execution_count": 41,
      "outputs": []
    },
    {
      "cell_type": "code",
      "source": [
        "efficientnet_model.compile(loss='categorical_crossentropy', metrics=['accuracy'], optimizer=tf.keras.optimizers.Adam())"
      ],
      "metadata": {
        "id": "F9qOP0ETW0op"
      },
      "execution_count": 43,
      "outputs": []
    },
    {
      "cell_type": "code",
      "source": [
        "efficientnet_history = efficientnet_model.fit(train_data, epochs=EPOCHS, steps_per_epoch=len(train_data), validation_data=(test_data), validation_steps=len(test_data), callbacks=[create_tensorboard_callback(dir_name='tensorboard_hub', experiment_name='EfficientNet')])"
      ],
      "metadata": {
        "colab": {
          "base_uri": "https://localhost:8080/"
        },
        "id": "xlQs9DJqXGMn",
        "outputId": "cfe9744c-331b-4c75-8613-3100a9b5ea0c"
      },
      "execution_count": 45,
      "outputs": [
        {
          "output_type": "stream",
          "name": "stdout",
          "text": [
            "Saving tensorboard log file to: tensorboard_hub/EfficientNet/20220902-132157\n",
            "Epoch 1/5\n",
            "24/24 [==============================] - 27s 742ms/step - loss: 1.8961 - accuracy: 0.4080 - val_loss: 1.3290 - val_accuracy: 0.7260\n",
            "Epoch 2/5\n",
            "24/24 [==============================] - 15s 648ms/step - loss: 1.0860 - accuracy: 0.7613 - val_loss: 0.8813 - val_accuracy: 0.8076\n",
            "Epoch 3/5\n",
            "24/24 [==============================] - 16s 696ms/step - loss: 0.7700 - accuracy: 0.8360 - val_loss: 0.7021 - val_accuracy: 0.8368\n",
            "Epoch 4/5\n",
            "24/24 [==============================] - 15s 660ms/step - loss: 0.6140 - accuracy: 0.8613 - val_loss: 0.6130 - val_accuracy: 0.8504\n",
            "Epoch 5/5\n",
            "24/24 [==============================] - 15s 639ms/step - loss: 0.5195 - accuracy: 0.8800 - val_loss: 0.5564 - val_accuracy: 0.8612\n"
          ]
        }
      ]
    },
    {
      "cell_type": "code",
      "source": [],
      "metadata": {
        "id": "Qvl62VgXXWcd"
      },
      "execution_count": null,
      "outputs": []
    }
  ]
}